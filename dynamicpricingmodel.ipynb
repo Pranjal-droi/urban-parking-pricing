{
  "nbformat": 4,
  "nbformat_minor": 0,
  "metadata": {
    "colab": {
      "provenance": [],
      "authorship_tag": "ABX9TyOSP8n3s2nckoTF0h3FEJpG",
      "include_colab_link": true
    },
    "kernelspec": {
      "name": "python3",
      "display_name": "Python 3"
    },
    "language_info": {
      "name": "python"
    }
  },
  "cells": [
    {
      "cell_type": "markdown",
      "metadata": {
        "id": "view-in-github",
        "colab_type": "text"
      },
      "source": [
        "<a href=\"https://colab.research.google.com/github/Pranjal-droi/urban-parking-pricing/blob/main/dynamicpricingmodel.ipynb\" target=\"_parent\"><img src=\"https://colab.research.google.com/assets/colab-badge.svg\" alt=\"Open In Colab\"/></a>"
      ]
    },
    {
      "cell_type": "code",
      "execution_count": null,
      "metadata": {
        "id": "okTLNTo5cZ5Y"
      },
      "outputs": [],
      "source": [
        "!pip install geopy bokeh --quiet"
      ]
    },
    {
      "cell_type": "code",
      "source": [
        "!pip install pathway\n"
      ],
      "metadata": {
        "id": "EmiYNpD2jJ12"
      },
      "execution_count": null,
      "outputs": []
    },
    {
      "cell_type": "code",
      "source": [
        "import pandas as pd\n",
        "import numpy as np\n",
        "from sklearn.preprocessing import MinMaxScaler\n",
        "from geopy.distance import geodesic\n",
        "from bokeh.plotting import figure, show, output_notebook\n",
        "from bokeh.layouts import column\n",
        "import pathway as pw\n",
        "from geopy.distance import geodesic\n",
        "output_notebook()"
      ],
      "metadata": {
        "id": "jXuJ7egEcdm1"
      },
      "execution_count": null,
      "outputs": []
    },
    {
      "cell_type": "code",
      "source": [
        "!wget -O dataset.csv \"https://raw.githubusercontent.com/Pranjal-droi/urban-parking-pricing/main/dataset.csv\"\n",
        "\n",
        "import pandas as pd\n",
        "df = pd.read_csv('/content/dataset.csv')\n",
        "print(\"✅ Dataset Loaded:\", df.shape)\n",
        "df.head()\n",
        "\n"
      ],
      "metadata": {
        "id": "py281aXzdKRd"
      },
      "execution_count": null,
      "outputs": []
    },
    {
      "cell_type": "code",
      "source": [
        "@pw.udf\n",
        "def compute_demand_based_price(occupancy, capacity, queue, traffic, is_special, vehicle_type):\n",
        "    # Default weights\n",
        "    alpha, beta, gamma, delta, epsilon = 2.0, 1.0, 1.5, 2.0, 1.0\n",
        "    base_price = 10.0\n",
        "    lam = 0.75\n",
        "\n",
        "    # Encoding\n",
        "    traffic_map = {'low': 1, 'medium': 2, 'high': 3}\n",
        "    vehicle_map = {'car': 1.0, 'bike': 0.7, 'truck': 1.5}\n",
        "\n",
        "    try:\n",
        "        traffic_level = traffic_map.get(traffic, 2)\n",
        "        vehicle_weight = vehicle_map.get(vehicle_type, 1.0)\n",
        "        occ_ratio = occupancy / capacity if capacity > 0 else 0\n",
        "\n",
        "        # Raw demand calculation\n",
        "        demand = (\n",
        "            alpha * occ_ratio +\n",
        "            beta * queue -\n",
        "            gamma * traffic_level +\n",
        "            delta * is_special +\n",
        "            epsilon * vehicle_weight\n",
        "        )\n",
        "\n",
        "        # Normalize demand using tanh as a smooth function (avoid MinMax fit)\n",
        "        norm_demand = np.tanh(demand / 10)\n",
        "        price = base_price * (1 + lam * norm_demand)\n",
        "        return round(min(max(price, 5), 20), 2)  # Clamp between $5–$20\n",
        "    except:\n",
        "        return base_price\n",
        "\n",
        "# ================================\n",
        "# 🧾 4. DEFINE DATA SCHEMA\n",
        "# ================================\n",
        "class ParkingInputSchema(pw.Schema):\n",
        "    SystemCodeNumber: str\n",
        "    Capacity: int\n",
        "    Occupancy: int\n",
        "    QueueLength: int\n",
        "    TrafficConditionNearby: str\n",
        "    IsSpecialDay: int\n",
        "    VehicleType: str\n",
        "\n",
        "# ================================\n",
        "# 🔄 5. READ STREAM & APPLY LOGIC\n",
        "# ================================\n",
        "input_table = pw.io.csv.read(\n",
        "    \"dataset.csv\",\n",
        "    schema=ParkingInputSchema,\n",
        "    mode=\"static\",  # stream simulation from static CSV\n",
        "    autocommit_duration_ms=1000\n",
        ")\n",
        "\n",
        "# Add new column with computed prices\n",
        "result = input_table.select(\n",
        "    SystemCodeNumber=input_table.SystemCodeNumber,\n",
        "    Occupancy=input_table.Occupancy,\n",
        "    Capacity=input_table.Capacity,\n",
        "    Price=compute_demand_based_price(\n",
        "        input_table.Occupancy,\n",
        "        input_table.Capacity,\n",
        "        input_table.QueueLength,\n",
        "        input_table.TrafficConditionNearby,\n",
        "        input_table.IsSpecialDay,\n",
        "        input_table.VehicleType\n",
        "    )\n",
        ")\n",
        "\n",
        "# ================================\n",
        "# 💾 6. WRITE OUTPUT\n",
        "# ================================\n",
        "pw.io.csv.write(result, \"prices_output.json\")\n",
        "\n",
        "# ================================\n",
        "# ▶️ 7. RUN\n",
        "# ================================\n",
        "pw.run()"
      ],
      "metadata": {
        "id": "vd2b2vThtgaL"
      },
      "execution_count": null,
      "outputs": []
    },
    {
      "cell_type": "code",
      "source": [
        "df['BasePrice'] = 10.0\n",
        "df['OccupancyRatio'] = df['Occupancy'] / df['Capacity']"
      ],
      "metadata": {
        "id": "rOTE5xvgc-C9"
      },
      "execution_count": null,
      "outputs": []
    },
    {
      "cell_type": "code",
      "source": [
        "traffic_map = {'low': 1, 'medium': 2, 'high': 3}\n",
        "df['TrafficLevel'] = df['TrafficConditionNearby'].map(traffic_map)\n"
      ],
      "metadata": {
        "id": "y6_DGBLhc_Js"
      },
      "execution_count": null,
      "outputs": []
    },
    {
      "cell_type": "code",
      "source": [
        "traffic_map = {'low': 1, 'medium': 2, 'high': 3}\n",
        "df['TrafficLevel'] = df['TrafficConditionNearby'].map(traffic_map)\n"
      ],
      "metadata": {
        "id": "-nsnEhCycvvi"
      },
      "execution_count": null,
      "outputs": []
    },
    {
      "cell_type": "code",
      "source": [
        "vehicle_map = {'car': 1.0, 'bike': 0.7, 'truck': 1.5}\n",
        "df['VehicleTypeWeight'] = df['VehicleType'].map(vehicle_map)"
      ],
      "metadata": {
        "id": "danQsG44dIQN"
      },
      "execution_count": null,
      "outputs": []
    },
    {
      "cell_type": "code",
      "source": [
        "df['TrafficLevel'].fillna(2, inplace=True)\n",
        "df['VehicleTypeWeight'].fillna(1.0, inplace=True)"
      ],
      "metadata": {
        "id": "FA0SMoUEetyT"
      },
      "execution_count": null,
      "outputs": []
    },
    {
      "cell_type": "code",
      "source": [
        "alpha1 = 5.0\n",
        "df['LinearPrice'] = np.nan\n",
        "\n",
        "for lot, group in df.groupby('SystemCodeNumber'):\n",
        "    group = group.sort_values(by=['ID']) # Sorting by ID as a proxy for time\n",
        "    prices = [10.0]\n",
        "    for i in range(1, len(group)):\n",
        "        occ_ratio = group.iloc[i]['OccupancyRatio']\n",
        "        next_price = prices[-1] + alpha1 * occ_ratio\n",
        "        prices.append(next_price)\n",
        "    df.loc[group.index, 'LinearPrice'] = prices"
      ],
      "metadata": {
        "id": "zMIkHXgWexhl"
      },
      "execution_count": null,
      "outputs": []
    },
    {
      "cell_type": "code",
      "source": [
        "alpha_d, beta_d, gamma_d, delta_d, epsilon_d = 2.0, 1.0, 1.5, 2.0, 1.0\n",
        "df['RawDemand'] = (\n",
        "    alpha_d * df['OccupancyRatio'] +\n",
        "    beta_d * df['QueueLength'] -\n",
        "    gamma_d * df['TrafficLevel'] +\n",
        "    delta_d * df['IsSpecialDay'] +\n",
        "    epsilon_d * df['VehicleTypeWeight']\n",
        ")\n",
        "\n",
        "scaler = MinMaxScaler()\n",
        "df['NormalizedDemand'] = scaler.fit_transform(df[['RawDemand']])\n",
        "\n",
        "lambda_d = 0.75\n",
        "df['DemandPrice'] = df['BasePrice'] * (1 + lambda_d * df['NormalizedDemand'])\n",
        "df['DemandPrice'] = df['DemandPrice'].clip(5, 20)"
      ],
      "metadata": {
        "id": "-5kzhadXe1R3"
      },
      "execution_count": null,
      "outputs": []
    },
    {
      "cell_type": "code",
      "source": [
        "lot_locations = df.groupby('SystemCodeNumber')[['Latitude', 'Longitude']].first()"
      ],
      "metadata": {
        "id": "LIgMcYtxkBsG"
      },
      "execution_count": null,
      "outputs": []
    },
    {
      "cell_type": "code",
      "source": [
        "distance_matrix = pd.DataFrame(index=lot_locations.index, columns=lot_locations.index)\n",
        "for lot1 in lot_locations.index:\n",
        "    for lot2 in lot_locations.index:\n",
        "        coord1 = (lot_locations.loc[lot1, 'Latitude'], lot_locations.loc[lot1, 'Longitude'])\n",
        "        coord2 = (lot_locations.loc[lot2, 'Latitude'], lot_locations.loc[lot2, 'Longitude'])\n",
        "        distance_matrix.loc[lot1, lot2] = geodesic(coord1, coord2).km"
      ],
      "metadata": {
        "id": "xB_JDvP_keYI"
      },
      "execution_count": null,
      "outputs": []
    },
    {
      "cell_type": "code",
      "source": [
        "price_lookup = {}\n",
        "for (lot, id), group in df.groupby(['SystemCodeNumber', 'ID']):\n",
        "    price_lookup[(lot, id)] = dict(zip(group['SystemCodeNumber'], group['DemandPrice']))"
      ],
      "metadata": {
        "id": "TwSp35DSmrnm"
      },
      "execution_count": null,
      "outputs": []
    },
    {
      "cell_type": "code",
      "source": [
        "def adjust_price(row):\n",
        "    lot = row['SystemCodeNumber']\n",
        "    time_key = (row['LastUpdatedDate'], row['LastUpdatedTime'])\n",
        "    own_price = row['DemandPrice']\n",
        "\n",
        "    # Nearby within 1km\n",
        "    nearby_lots = distance_matrix.loc[lot][distance_matrix.loc[lot].astype(float) < 1.0].index.tolist()\n",
        "    nearby_lots = [l for l in nearby_lots if l != lot]\n",
        "\n",
        "    competitor_prices = [price_lookup.get(time_key, {}).get(l) for l in nearby_lots]\n",
        "    competitor_prices = [p for p in competitor_prices if p is not None]\n",
        "\n",
        "    if not competitor_prices:\n",
        "        return own_price\n",
        "\n",
        "    avg_comp = np.mean(competitor_prices)\n",
        "\n",
        "    if row['Occupancy'] >= row['Capacity'] and avg_comp < own_price:\n",
        "        return max(own_price - 1.0, 5)\n",
        "    elif avg_comp > own_price:\n",
        "        return min(own_price + 1.0, 20)\n",
        "    return own_price"
      ],
      "metadata": {
        "id": "C7xlaROlkiE1"
      },
      "execution_count": null,
      "outputs": []
    },
    {
      "cell_type": "code",
      "source": [
        "lot_locations = df.groupby('SystemCodeNumber')[['Latitude', 'Longitude']].first()\n",
        "distance_matrix = pd.DataFrame(index=lot_locations.index, columns=lot_locations.index)\n",
        "\n",
        "for lot1 in lot_locations.index:\n",
        "    for lot2 in lot_locations.index:\n",
        "        coord1 = (lot_locations.loc[lot1, 'Latitude'], lot_locations.loc[lot1, 'Longitude'])\n",
        "        coord2 = (lot_locations.loc[lot2, 'Latitude'], lot_locations.loc[lot2, 'Longitude'])\n",
        "        distance_matrix.loc[lot1, lot2] = geodesic(coord1, coord2).kilometers"
      ],
      "metadata": {
        "id": "BXSeXAfKe57D"
      },
      "execution_count": null,
      "outputs": []
    },
    {
      "cell_type": "code",
      "source": [
        "price_lookup = {}\n",
        "for (lot, id), group in df.groupby(['SystemCodeNumber', 'ID']):\n",
        "    price_lookup[(lot, id)] = dict(zip(group['SystemCodeNumber'], group['DemandPrice']))"
      ],
      "metadata": {
        "id": "HYp9G5vYfAZu"
      },
      "execution_count": null,
      "outputs": []
    },
    {
      "cell_type": "code",
      "source": [
        "def adjust_price(row):\n",
        "    lot = row['SystemCodeNumber']\n",
        "    # Use 'ID' as a proxy for time since LastUpdatedDate and LastUpdatedTime are not available\n",
        "    time_key = (lot, row['ID'])\n",
        "    own_price = row['DemandPrice']\n",
        "\n",
        "    # Nearby within 1km\n",
        "    # Ensure distance_matrix values are float for comparison\n",
        "    nearby_lots = distance_matrix.loc[lot][distance_matrix.loc[lot].astype(float) < 1.0].index.tolist()\n",
        "    nearby_lots = [l for l in nearby_lots if l != lot]\n",
        "\n",
        "    competitor_prices = [price_lookup.get(time_key, {}).get(l) for l in nearby_lots]\n",
        "    competitor_prices = [p for p in competitor_prices if p is not None]\n",
        "\n",
        "    if not competitor_prices:\n",
        "        return own_price\n",
        "\n",
        "    avg_comp = np.mean(competitor_prices)\n",
        "\n",
        "    # Adjust price based on occupancy and competitor prices\n",
        "    if row['Occupancy'] >= row['Capacity'] and avg_comp < own_price:\n",
        "        return max(own_price - 1.0, 5)  # Lower price if full and competitors are cheaper\n",
        "    elif avg_comp > own_price:\n",
        "        return min(own_price + 1.0, 20)  # Increase price if competitors are more expensive\n",
        "    return own_price\n",
        "\n",
        "df['CompetitivePrice'] = df.apply(adjust_price, axis=1)"
      ],
      "metadata": {
        "id": "WUQM2ENXfDjh"
      },
      "execution_count": null,
      "outputs": []
    },
    {
      "cell_type": "code",
      "source": [
        "from bokeh.palettes import Category10\n",
        "def plot_prices(lot_id):\n",
        "    lot_df = df[df['SystemCodeNumber'] == lot_id].sort_values(by=['ID']) # Sort by ID as a proxy for time\n",
        "\n",
        "    x = list(range(len(lot_df))) # Convert range to a list\n",
        "    p = figure(title=f\"Real-Time Prices for {lot_id}\", x_axis_label='Time (by ID)', y_axis_label='Price ($)', width=800)\n",
        "    p.line(x, lot_df['LinearPrice'], legend_label=\"Linear\", color=Category10[3][0], line_width=2)\n",
        "    p.line(x, lot_df['DemandPrice'], legend_label=\"Demand\", color=Category10[3][1], line_width=2)\n",
        "    p.line(x, lot_df['CompetitivePrice'], legend_label=\"Competitive\", color=Category10[3][2], line_width=2)\n",
        "    p.legend.location = \"top_left\"\n",
        "    return p\n",
        "\n",
        "# Show sample lot plot\n",
        "lot_code = df['SystemCodeNumber'].unique()[0]\n",
        "show(plot_prices(lot_code))"
      ],
      "metadata": {
        "id": "FremUUBpfLQ2"
      },
      "execution_count": null,
      "outputs": []
    },
    {
      "cell_type": "code",
      "metadata": {
        "id": "bcf4ad1a"
      },
      "source": [
        "import pandas as pd\n",
        "\n",
        "pathway_results_df = pd.read_csv(\"pathway_output.csv\")\n",
        "print(\"✅ Pathway results loaded:\")\n",
        "display(pathway_results_df.head())"
      ],
      "execution_count": null,
      "outputs": []
    }
  ]
}